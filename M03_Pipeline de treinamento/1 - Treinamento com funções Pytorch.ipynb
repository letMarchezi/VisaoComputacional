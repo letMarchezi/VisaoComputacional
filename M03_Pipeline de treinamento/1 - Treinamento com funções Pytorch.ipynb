{
 "cells": [
  {
   "cell_type": "code",
   "execution_count": 1,
   "metadata": {},
   "outputs": [],
   "source": [
    "import numpy as np\n",
    "import matplotlib.pyplot as plt\n",
    "import torch\n",
    "from torch import nn\n",
    "import torch.nn.functional as F\n",
    "\n",
    "data = torch.from_numpy(np.loadtxt('../data/age_data_3.txt')).to(torch.float32)\n",
    "inputs, targets = data.T"
   ]
  },
  {
   "cell_type": "markdown",
   "metadata": {},
   "source": [
    "### Camada linear do Pytorch"
   ]
  },
  {
   "cell_type": "code",
   "execution_count": 2,
   "metadata": {},
   "outputs": [
    {
     "name": "stdout",
     "output_type": "stream",
     "text": [
      "Parameter containing:\n",
      "tensor([[-0.8749]], requires_grad=True)\n",
      "Parameter containing:\n",
      "tensor([-0.8392], requires_grad=True)\n"
     ]
    }
   ],
   "source": [
    "model = nn.Linear(in_features=1, out_features=1, bias=True)\n",
    "print(model.weight)\n",
    "print(model.bias)"
   ]
  },
  {
   "cell_type": "markdown",
   "metadata": {},
   "source": [
    "Funções de loss:\n",
    "* BCE: Binary Cross Entropy loss\n",
    "* CrossEntropy: Cross Entropy loss (multiclass)"
   ]
  },
  {
   "cell_type": "code",
   "execution_count": 4,
   "metadata": {},
   "outputs": [
    {
     "name": "stdout",
     "output_type": "stream",
     "text": [
      "tensor([[-2.0466],\n",
      "        [-1.9241],\n",
      "        [-1.9766],\n",
      "        [-2.0816],\n",
      "        [-2.0554],\n",
      "        [-1.8016],\n",
      "        [-1.9766],\n",
      "        [-1.8716],\n",
      "        [-1.8804],\n",
      "        [-1.9241]])\n",
      "tensor([[-2.0466],\n",
      "        [-1.9241],\n",
      "        [-1.9766],\n",
      "        [-2.0816],\n",
      "        [-2.0554],\n",
      "        [-1.8016],\n",
      "        [-1.9766],\n",
      "        [-1.8716],\n",
      "        [-1.8804],\n",
      "        [-1.9241]])\n"
     ]
    }
   ],
   "source": [
    "inputs = inputs.reshape(len(inputs), 1)\n",
    "targets = targets.reshape(len(targets),1)\n",
    "\n",
    "with torch.no_grad():\n",
    "    scores = model(inputs)\n",
    "    scores_test = model.weight*inputs + model.bias\n",
    "    \n",
    "print(scores[:10])\n",
    "print(scores_test[:10])\n"
   ]
  },
  {
   "cell_type": "code",
   "execution_count": 8,
   "metadata": {},
   "outputs": [
    {
     "data": {
      "text/plain": [
       "[<matplotlib.lines.Line2D at 0x231a7967410>]"
      ]
     },
     "execution_count": 8,
     "metadata": {},
     "output_type": "execute_result"
    },
    {
     "data": {
      "image/png": "[encoded data removed]",
      "text/plain": [
       "<Figure size 640x480 with 1 Axes>"
      ]
     },
     "metadata": {},
     "output_type": "display_data"
    }
   ],
   "source": [
    "import tqdm as notebook_tqdm\n",
    "\n",
    "def train(model, inputs, targets, lr, num_epochs):\n",
    "    loss_func = nn.BCEWithLogitsLoss()\n",
    "    optim = torch.optim.SGD(model.parameters(),lr=lr)\n",
    "    losses = []\n",
    "    for epoch in range(num_epochs):\n",
    "        optim.zero_grad()\n",
    "        scores = model(inputs)\n",
    "        loss = loss_func(scores, targets)\n",
    "        loss.backward()\n",
    "        optim.step()\n",
    "        losses.append(loss.item())\n",
    "        \n",
    "    return losses        \n",
    "\n",
    "with torch.no_grad():\n",
    "    model.weight[:] = 19.\n",
    "    model.bias[:] = -25.\n",
    "losses = train(model, inputs, targets, lr=0.5, num_epochs=100)\n",
    "plt.plot(losses)"
   ]
  }
 ],
 "metadata": {
  "kernelspec": {
   "display_name": "visao",
   "language": "python",
   "name": "python3"
  },
  "language_info": {
   "codemirror_mode": {
    "name": "ipython",
    "version": 3
   },
   "file_extension": ".py",
   "mimetype": "text/x-python",
   "name": "python",
   "nbconvert_exporter": "python",
   "pygments_lexer": "ipython3",
   "version": "3.12.2"
  }
 },
 "nbformat": 4,
 "nbformat_minor": 2
}

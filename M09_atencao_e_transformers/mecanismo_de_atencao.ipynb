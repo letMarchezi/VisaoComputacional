{
 "cells": [
  {
   "cell_type": "code",
   "execution_count": 5,
   "metadata": {},
   "outputs": [
    {
     "data": {
      "text/plain": [
       "torch.Size([8, 196, 768])"
      ]
     },
     "execution_count": 5,
     "metadata": {},
     "output_type": "execute_result"
    }
   ],
   "source": [
    "import torch\n",
    "from torch import nn\n",
    "\n",
    "class PatchfyLayer (nn.Module):\n",
    "    \n",
    "    def __init__(self, image_size, patch_size, embed_dim):\n",
    "        \n",
    "        super().__init__()\n",
    "        \n",
    "        self.conv_proj = nn.Conv2d(3, embed_dim, kernel_size=patch_size, stride=patch_size)\n",
    "        new_size = image_size/patch_size \n",
    "        # comprimento da sequência (número de tokens/patchs)\n",
    "        seq_length = new_size**2\n",
    "        self.embed_dim = embed_dim \n",
    "        self.new_size = new_size \n",
    "        self.seq_length = seq_length \n",
    "        \n",
    "    def forward(self, x):\n",
    "        \n",
    "        # (bs, c, image_size,image_size) -> (bs,embed_dim,new_size,new_size)\n",
    "        x = self.conv_proj(x)\n",
    "        # (bs, embed_dim, new_size, new_size) -> (bs, embed_dim, new_size**2)\n",
    "        x = x.reshape(x.shape[0], self.embed_dim, -1)\n",
    "        ## (bs, embed_dim,new_size**2) -> (bs,new_size**2,embed_dim)\n",
    "        x = x.permute(0, 2, 1)\n",
    "        \n",
    "        return x\n",
    "    \n",
    "    \n",
    "x = torch.rand(8, 3, 224, 224)\n",
    "pl = PatchfyLayer(image_size=224, patch_size=16, embed_dim=768)\n",
    "tokens = pl(x)\n",
    "# 8: tamanho do batch\n",
    "# 196: número de tokens (tamanho do patch)\n",
    "# 768: número de valores associados a cada token\n",
    "tokens.shape"
   ]
  },
  {
   "cell_type": "markdown",
   "metadata": {},
   "source": [
    "## Multiplicação matricial em batches"
   ]
  },
  {
   "cell_type": "code",
   "execution_count": 7,
   "metadata": {},
   "outputs": [
    {
     "data": {
      "text/plain": [
       "torch.Size([196, 64])"
      ]
     },
     "execution_count": 7,
     "metadata": {},
     "output_type": "execute_result"
    }
   ],
   "source": [
    "x = torch.rand(196, 768)\n",
    "w = torch.rand(768, 64)\n",
    "y = torch.matmul(x, w)\n",
    "y.shape"
   ]
  },
  {
   "cell_type": "code",
   "execution_count": 8,
   "metadata": {},
   "outputs": [
    {
     "data": {
      "text/plain": [
       "torch.Size([8, 12, 196, 64])"
      ]
     },
     "execution_count": 8,
     "metadata": {},
     "output_type": "execute_result"
    }
   ],
   "source": [
    "x = torch.rand(8, 12, 196, 768)\n",
    "y = torch.matmul(x, w)\n",
    "y.shape"
   ]
  },
  {
   "cell_type": "code",
   "execution_count": 9,
   "metadata": {},
   "outputs": [
    {
     "data": {
      "text/plain": [
       "torch.Size([8, 12, 196, 64])"
      ]
     },
     "execution_count": 9,
     "metadata": {},
     "output_type": "execute_result"
    }
   ],
   "source": [
    "linear = nn.Linear(768, 64)\n",
    "y = linear(x)\n",
    "y.shape"
   ]
  },
  {
   "cell_type": "markdown",
   "metadata": {},
   "source": [
    "## Operação de atenção"
   ]
  },
  {
   "cell_type": "code",
   "execution_count": 12,
   "metadata": {},
   "outputs": [
    {
     "data": {
      "text/plain": [
       "torch.Size([8, 196, 768])"
      ]
     },
     "execution_count": 12,
     "metadata": {},
     "output_type": "execute_result"
    }
   ],
   "source": [
    "def attention(query, key, value):\n",
    "    scores = torch.matmul(query, key.transpose(-2,-1))\n",
    "    p_attn = scores.softmax(dim=-1)\n",
    "    out = torch.matmul(p_attn, value)\n",
    "    \n",
    "    return out\n",
    "\n",
    "out = attention(tokens, tokens, tokens)\n",
    "out.shape"
   ]
  },
  {
   "cell_type": "code",
   "execution_count": null,
   "metadata": {},
   "outputs": [],
   "source": []
  }
 ],
 "metadata": {
  "kernelspec": {
   "display_name": "vc2024",
   "language": "python",
   "name": "python3"
  },
  "language_info": {
   "codemirror_mode": {
    "name": "ipython",
    "version": 3
   },
   "file_extension": ".py",
   "mimetype": "text/x-python",
   "name": "python",
   "nbconvert_exporter": "python",
   "pygments_lexer": "ipython3",
   "version": "3.12.2"
  }
 },
 "nbformat": 4,
 "nbformat_minor": 2
}

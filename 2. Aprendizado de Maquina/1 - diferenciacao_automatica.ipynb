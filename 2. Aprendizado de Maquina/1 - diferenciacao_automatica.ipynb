{
 "cells": [
  {
   "cell_type": "code",
   "execution_count": 2,
   "metadata": {},
   "outputs": [],
   "source": [
    "import torch\n",
    "\n"
   ]
  },
  {
   "cell_type": "code",
   "execution_count": 3,
   "metadata": {},
   "outputs": [
    {
     "data": {
      "text/plain": [
       "tensor(4., grad_fn=<MulBackward0>)"
      ]
     },
     "execution_count": 3,
     "metadata": {},
     "output_type": "execute_result"
    }
   ],
   "source": [
    "# O padrão do pytorch é float 32, mas do numpy é float 64\n",
    "x = torch.tensor(1., requires_grad=True)\n",
    "\n",
    "y = 4*x**2\n",
    "\n",
    "y"
   ]
  },
  {
   "cell_type": "code",
   "execution_count": 4,
   "metadata": {},
   "outputs": [
    {
     "data": {
      "text/plain": [
       "tensor(8.)"
      ]
     },
     "execution_count": 4,
     "metadata": {},
     "output_type": "execute_result"
    }
   ],
   "source": [
    "# utiliza backpropagation, calcula gradiente da variável y e armazena em variáveis folhas\n",
    "y.backward()\n",
    "\n",
    "dydx = x.grad\n",
    "\n",
    "dydx"
   ]
  },
  {
   "cell_type": "code",
   "execution_count": 5,
   "metadata": {},
   "outputs": [
    {
     "name": "stdout",
     "output_type": "stream",
     "text": [
      "[tensor(3.), tensor(2.4444), tensor(2.), tensor(-0.3333)]\n"
     ]
    }
   ],
   "source": [
    "def function(x1,x2,x3,x4):\n",
    "    y = x1*x2 + x3 **2 - x4/x2\n",
    "    \n",
    "    return y\n",
    "\n",
    "def gradient(y,x1,x2,x3,x4):\n",
    "    \n",
    "    y.backward()\n",
    "    grad = [x1.grad, x2.grad, x3.grad, x4.grad]\n",
    "    \n",
    "    return grad\n",
    "\n",
    "x1 = torch.tensor(2., requires_grad=True)\n",
    "x2 = torch.tensor(3., requires_grad=True)\n",
    "x3 = torch.tensor(1., requires_grad=True)\n",
    "x4 = torch.tensor(4., requires_grad=True)\n",
    "\n",
    "y = function(x1, x2, x3, x4)\n",
    "grad = gradient(y,x1,x2,x3,x4)\n",
    "\n",
    "print(grad)"
   ]
  },
  {
   "cell_type": "markdown",
   "metadata": {},
   "source": [
    "O método y.backward() calcula a gradiente da variável y em relação às variáveis:\n",
    "\n",
    "        1. a variável que foi utilizada para calcular o valor de y\n",
    "        2. a variavel possui o atributo requires_grad=True\n",
    "        3. a variável é folha do grafo de computação\n",
    "\n",
    "(Variáveis são folha se não foram definidas a partir de calculo com outras variáveis)"
   ]
  },
  {
   "cell_type": "code",
   "execution_count": 6,
   "metadata": {},
   "outputs": [
    {
     "name": "stdout",
     "output_type": "stream",
     "text": [
      "tensor(82944.)\n",
      "tensor(6912.)\n"
     ]
    }
   ],
   "source": [
    "def y_func(x):\n",
    "    return 3*x**2\n",
    "\n",
    "def z_func(y):\n",
    "    return y**4\n",
    "\n",
    "\n",
    "x = torch.tensor(2., requires_grad=True)\n",
    "y = y_func(x)\n",
    "z = z_func(y)\n",
    "\n",
    "y.retain_grad()\n",
    "z.backward()\n",
    "\n",
    "print(x.grad)\n",
    "print(y.grad)"
   ]
  },
  {
   "cell_type": "code",
   "execution_count": 33,
   "metadata": {},
   "outputs": [
    {
     "name": "stdout",
     "output_type": "stream",
     "text": [
      "<AddBackward0 object at 0x0000020AE0D9ABF0>\n",
      "<SubBackward0 object at 0x0000020AE1458FA0>\n",
      "<DivBackward0 object at 0x0000020AE1458FA0>\n",
      "<PowBackward1 object at 0x0000020AE1458FA0>\n",
      "<MulBackward0 object at 0x0000020AE1458FA0>\n"
     ]
    }
   ],
   "source": [
    "x = torch.tensor(2., requires_grad=True)\n",
    "y = torch.tensor(5., requires_grad=True)\n",
    "\n",
    "z = x+y\n",
    "print(z.grad_fn)\n",
    "\n",
    "z = x-y\n",
    "print(z.grad_fn)\n",
    "\n",
    "z = x/y\n",
    "print(z.grad_fn)\n",
    "\n",
    "z = x**y\n",
    "print(z.grad_fn)\n",
    "\n",
    "z = x*y\n",
    "print(z.grad_fn)\n"
   ]
  },
  {
   "cell_type": "code",
   "execution_count": 34,
   "metadata": {},
   "outputs": [
    {
     "name": "stdout",
     "output_type": "stream",
     "text": [
      "<MulBackward0 object at 0x0000020AE1459870>\n",
      "tensor(5., requires_grad=True)\n",
      "tensor(2., requires_grad=True)\n"
     ]
    }
   ],
   "source": [
    "print(z.grad_fn)\n",
    "print(z.grad_fn._saved_other)\n",
    "print(z.grad_fn._saved_self)"
   ]
  },
  {
   "cell_type": "code",
   "execution_count": 41,
   "metadata": {},
   "outputs": [
    {
     "data": {
      "text/plain": [
       "(tensor(10., grad_fn=<MulBackward0>), tensor(4., grad_fn=<MulBackward0>))"
      ]
     },
     "execution_count": 41,
     "metadata": {},
     "output_type": "execute_result"
    }
   ],
   "source": [
    "z.grad_fn(torch.tensor(2.))"
   ]
  },
  {
   "cell_type": "markdown",
   "metadata": {},
   "source": [
    "## Detalhes ao trabalhar com pytorch\n",
    "O pytorch acumula todos os gradientes calculados."
   ]
  },
  {
   "cell_type": "code",
   "execution_count": 75,
   "metadata": {},
   "outputs": [
    {
     "name": "stdout",
     "output_type": "stream",
     "text": [
      "tensor(1., requires_grad=True)\n",
      "tensor(4.)\n",
      "tensor(0.6000, requires_grad=True)\n",
      "tensor(7.)\n",
      "tensor(-0.1000, requires_grad=True)\n",
      "tensor(2.)\n",
      "tensor(-0.3000, requires_grad=True)\n",
      "tensor(8.)\n"
     ]
    }
   ],
   "source": [
    "w = torch.tensor(1., requires_grad=True)\n",
    "\n",
    "lr = 0.1\n",
    "data = [4, 7 , 2, 8]\n",
    "for x in data:\n",
    "    y = w*x\n",
    "    w.grad = None\n",
    "    y.backward()\n",
    "    print(w)\n",
    "    print(w.grad)\n",
    "    with torch.no_grad():\n",
    "        # Desativa o gradiente para poder permitir a atualização da variável para não-folha\n",
    "        w -= lr*w.grad\n"
   ]
  },
  {
   "cell_type": "code",
   "execution_count": 65,
   "metadata": {},
   "outputs": [
    {
     "name": "stdout",
     "output_type": "stream",
     "text": [
      "tensor([0.8158, 0.4766, 0.0148, 0.2619, 0.2250], requires_grad=True)\n",
      "tensor([0.8158, 0.4766, 0.0148, 0.2619, 0.2250], requires_grad=True)\n"
     ]
    }
   ],
   "source": [
    "# Copia o espaço de memoria x para y\n",
    "x = torch.rand(5,requires_grad = True)\n",
    "y = x\n",
    "print(x)\n",
    "print(y)"
   ]
  },
  {
   "cell_type": "code",
   "execution_count": 67,
   "metadata": {},
   "outputs": [
    {
     "name": "stdout",
     "output_type": "stream",
     "text": [
      "tensor([0.8158, 0.4766, 0.0148, 0.2619, 0.2250], grad_fn=<CloneBackward0>)\n"
     ]
    }
   ],
   "source": [
    "# Copia apenas o conteudo de x para y\n",
    "y = x.clone()\n",
    "print(y)"
   ]
  },
  {
   "cell_type": "code",
   "execution_count": 69,
   "metadata": {},
   "outputs": [
    {
     "name": "stdout",
     "output_type": "stream",
     "text": [
      "tensor([0.8158, 0.4766, 0.0148, 0.2619, 0.2250])\n"
     ]
    }
   ],
   "source": [
    "# Para de armazenar o gradiente da variável e copia o conteúdo de x\n",
    "y = x.detach().clone()\n",
    "print(y)"
   ]
  },
  {
   "cell_type": "code",
   "execution_count": 73,
   "metadata": {},
   "outputs": [
    {
     "data": {
      "text/plain": [
       "False"
      ]
     },
     "execution_count": 73,
     "metadata": {},
     "output_type": "execute_result"
    }
   ],
   "source": [
    "x = torch.tensor(2., requires_grad=True)\n",
    "\n",
    "\n",
    "with torch.no_grad():\n",
    "    y = x.clone()\n",
    "y.requires_grad"
   ]
  },
  {
   "cell_type": "code",
   "execution_count": null,
   "metadata": {},
   "outputs": [],
   "source": []
  }
 ],
 "metadata": {
  "kernelspec": {
   "display_name": "Python 3",
   "language": "python",
   "name": "python3"
  },
  "language_info": {
   "codemirror_mode": {
    "name": "ipython",
    "version": 3
   },
   "file_extension": ".py",
   "mimetype": "text/x-python",
   "name": "python",
   "nbconvert_exporter": "python",
   "pygments_lexer": "ipython3",
   "version": "3.12.2"
  }
 },
 "nbformat": 4,
 "nbformat_minor": 2
}
